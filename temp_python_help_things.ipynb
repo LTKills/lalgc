{
 "cells": [
  {
   "cell_type": "code",
   "execution_count": 1,
   "metadata": {
    "attributes": {
     "classes": [],
     "id": "",
     "n": "1"
    }
   },
   "outputs": [],
   "source": [
    "text=\"\"\"PROGRAM program\n",
    "PROCEDURE procedure\n",
    "VAR var\n",
    "BEGIN begin\n",
    "END end\n",
    "\n",
    "CONST const\n",
    "\n",
    "COLON :\n",
    "SC ;\n",
    "\n",
    "OB {\n",
    "CB }\n",
    "OP (\n",
    "CP )\n",
    "\n",
    "DOT .\n",
    "COMMA ,\n",
    "\n",
    "MATH_SUM (+|-)\n",
    "MATH_MUL (*|/)\n",
    "RELATION_S (>|>=|<|<=|==|<>)\n",
    "\n",
    "INT {0-9}+\n",
    "FLOAT {0-9}+.{0-9}+\n",
    "\t\n",
    "FUNC (read|write)\n",
    "LOOP (while|do|for)\n",
    "COND (if|else|then)\n",
    "\n",
    "CMD (FUNC|LOOP|COND)\n",
    "\n",
    "IDENT {a-zA-Z}{a-zA-Z0-9}+\n",
    "\"\"\""
   ]
  },
  {
   "cell_type": "code",
   "execution_count": 11,
   "metadata": {
    "attributes": {
     "classes": [],
     "id": "",
     "n": "11"
    }
   },
   "outputs": [
    {
     "name": "stdout",
     "output_type": "stream",
     "text": [
      "{PROGRAM} { printf(\"%s - NOME\\n\", yytext)}\n",
      "{PROCEDURE} { printf(\"%s - NOME\\n\", yytext)}\n",
      "{VAR} { printf(\"%s - NOME\\n\", yytext)}\n",
      "{BEGIN} { printf(\"%s - NOME\\n\", yytext)}\n",
      "{END} { printf(\"%s - NOME\\n\", yytext)}\n",
      "{CONST} { printf(\"%s - NOME\\n\", yytext)}\n",
      "{COLON} { printf(\"%s - NOME\\n\", yytext)}\n",
      "{SC} { printf(\"%s - NOME\\n\", yytext)}\n",
      "{OB} { printf(\"%s - NOME\\n\", yytext)}\n",
      "{CB} { printf(\"%s - NOME\\n\", yytext)}\n",
      "{OP} { printf(\"%s - NOME\\n\", yytext)}\n",
      "{CP} { printf(\"%s - NOME\\n\", yytext)}\n",
      "{DOT} { printf(\"%s - NOME\\n\", yytext)}\n",
      "{COMMA} { printf(\"%s - NOME\\n\", yytext)}\n",
      "{MATH_SUM} { printf(\"%s - NOME\\n\", yytext)}\n",
      "{MATH_MUL} { printf(\"%s - NOME\\n\", yytext)}\n",
      "{RELATION_S} { printf(\"%s - NOME\\n\", yytext)}\n",
      "{INT} { printf(\"%s - NOME\\n\", yytext)}\n",
      "{FLOAT} { printf(\"%s - NOME\\n\", yytext)}\n",
      "{\t} { printf(\"%s - NOME\\n\", yytext)}\n",
      "{FUNC} { printf(\"%s - NOME\\n\", yytext)}\n",
      "{LOOP} { printf(\"%s - NOME\\n\", yytext)}\n",
      "{COND} { printf(\"%s - NOME\\n\", yytext)}\n",
      "{CMD} { printf(\"%s - NOME\\n\", yytext)}\n",
      "{IDENT} { printf(\"%s - NOME\\n\", yytext)}\n"
     ]
    }
   ],
   "source": [
    "new_text = []\n",
    "for line in text.splitlines():\n",
    "    if line:\n",
    "        var = line.split(\" \")[0]\n",
    "        print('{', var, '} { printf(\"%s - NOME\\\\n\", yytext);}', sep=\"\")\n",
    "        \n",
    "        "
   ]
  }
 ],
 "metadata": {},
 "nbformat": 4,
 "nbformat_minor": 2
}
